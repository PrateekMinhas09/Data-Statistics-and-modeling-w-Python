{
 "cells": [
  {
   "cell_type": "markdown",
   "id": "b53c540c",
   "metadata": {},
   "source": []
  },
  {
   "cell_type": "markdown",
   "id": "f97bda5c",
   "metadata": {},
   "source": [
    "Applied Exercise"
   ]
  }
 ],
 "metadata": {
  "language_info": {
   "name": "python"
  }
 },
 "nbformat": 4,
 "nbformat_minor": 5
}
