{
 "cells": [
  {
   "cell_type": "markdown",
   "id": "9a39b0fb",
   "metadata": {},
   "source": [
    "<b><h1>Basic Commands</b></h1>"
   ]
  },
  {
   "cell_type": "code",
   "execution_count": 1,
   "id": "718e7ee5",
   "metadata": {},
   "outputs": [
    {
     "name": "stdout",
     "output_type": "stream",
     "text": [
      "fit a model with 11 variables\n"
     ]
    }
   ],
   "source": [
    "print(\"fit a model with\", 11, \"variables\")"
   ]
  },
  {
   "cell_type": "code",
   "execution_count": 2,
   "id": "8361a7d1",
   "metadata": {},
   "outputs": [
    {
     "data": {
      "text/plain": [
       "8"
      ]
     },
     "execution_count": 2,
     "metadata": {},
     "output_type": "execute_result"
    }
   ],
   "source": [
    "3+5"
   ]
  },
  {
   "cell_type": "code",
   "execution_count": 3,
   "id": "4c4ceef0",
   "metadata": {},
   "outputs": [
    {
     "data": {
      "text/plain": [
       "'helloworld'"
      ]
     },
     "execution_count": 3,
     "metadata": {},
     "output_type": "execute_result"
    }
   ],
   "source": [
    "\"hello\"+\"world\""
   ]
  },
  {
   "cell_type": "code",
   "execution_count": 4,
   "id": "04836fad",
   "metadata": {},
   "outputs": [
    {
     "name": "stdout",
     "output_type": "stream",
     "text": [
      "[3, 4, 5, 5, 8, 9]\n"
     ]
    }
   ],
   "source": [
    "# In Python, lists hold arbitrary objects, and are added using concatenation\n",
    "x=[3,4,5]\n",
    "y=[5,8,9]\n",
    "print(x+y)"
   ]
  },
  {
   "cell_type": "markdown",
   "id": "0a95bd70",
   "metadata": {},
   "source": [
    "<b><h1>NUMPY</h1></b>"
   ]
  },
  {
   "cell_type": "code",
   "execution_count": 5,
   "id": "a23aae71",
   "metadata": {},
   "outputs": [],
   "source": [
    "import numpy as np"
   ]
  },
  {
   "cell_type": "code",
   "execution_count": 6,
   "id": "4a6ddcf9",
   "metadata": {},
   "outputs": [
    {
     "data": {
      "text/plain": [
       "array([ 8, 11, 13])"
      ]
     },
     "execution_count": 6,
     "metadata": {},
     "output_type": "execute_result"
    }
   ],
   "source": [
    "x=np.array([3,4,5])\n",
    "y=np.array([5,7,8])\n",
    "x+y\n",
    "#different from the python addition, here shape must be equal or same "
   ]
  },
  {
   "cell_type": "code",
   "execution_count": 7,
   "id": "6c13d330",
   "metadata": {},
   "outputs": [
    {
     "data": {
      "text/plain": [
       "array([[1, 2, 3],\n",
       "       [3, 4, 5],\n",
       "       [7, 8, 9]])"
      ]
     },
     "execution_count": 7,
     "metadata": {},
     "output_type": "execute_result"
    }
   ],
   "source": [
    "#2D arrays \n",
    "\n",
    "x = np.array([[1,2,3],[3,4,5],[7,8,9]])\n",
    "x"
   ]
  },
  {
   "cell_type": "markdown",
   "id": "f4af3cb5",
   "metadata": {},
   "source": [
    "The object x has several attributes, or associated objects- x.ndim , x,dtype"
   ]
  },
  {
   "cell_type": "code",
   "execution_count": 8,
   "id": "e6d5ba1e",
   "metadata": {},
   "outputs": [
    {
     "name": "stdout",
     "output_type": "stream",
     "text": [
      "2\n",
      "int64\n"
     ]
    }
   ],
   "source": [
    "print(x.ndim)\n",
    "print(x.dtype)\n",
    "#2d matrix or array or vector, comprised of 64bit integers"
   ]
  },
  {
   "cell_type": "code",
   "execution_count": 9,
   "id": "f1379270",
   "metadata": {},
   "outputs": [
    {
     "data": {
      "text/plain": [
       "dtype('float64')"
      ]
     },
     "execution_count": 9,
     "metadata": {},
     "output_type": "execute_result"
    }
   ],
   "source": [
    "#replaced 2 with 2.3\n",
    "x = np.array([[1,2.3,3],[3,4,5],[7,8,9]])\n",
    "x.dtype"
   ]
  },
  {
   "cell_type": "code",
   "execution_count": 10,
   "id": "459150e1",
   "metadata": {},
   "outputs": [
    {
     "name": "stdout",
     "output_type": "stream",
     "text": [
      "Help on built-in function array in module numpy:\n",
      "\n",
      "array(...)\n",
      "    array(object, dtype=None, *, copy=True, order='K', subok=False, ndmin=0,\n",
      "          like=None)\n",
      "\n",
      "    Create an array.\n",
      "\n",
      "    Parameters\n",
      "    ----------\n",
      "    object : array_like\n",
      "        An array, any object exposing the array interface, an object whose\n",
      "        ``__array__`` method returns an array, or any (nested) sequence.\n",
      "        If object is a scalar, a 0-dimensional array containing object is\n",
      "        returned.\n",
      "    dtype : data-type, optional\n",
      "        The desired data-type for the array. If not given, NumPy will try to use\n",
      "        a default ``dtype`` that can represent the values (by applying promotion\n",
      "        rules when necessary.)\n",
      "    copy : bool, optional\n",
      "        If ``True`` (default), then the array data is copied. If ``None``,\n",
      "        a copy will only be made if ``__array__`` returns a copy, if obj is\n",
      "        a nested sequence, or if a copy is needed to satisfy any of the other\n",
      "        requirements (``dtype``, ``order``, etc.). Note that any copy of\n",
      "        the data is shallow, i.e., for arrays with object dtype, the new\n",
      "        array will point to the same objects. See Examples for `ndarray.copy`.\n",
      "        For ``False`` it raises a ``ValueError`` if a copy cannot be avoided.\n",
      "        Default: ``True``.\n",
      "    order : {'K', 'A', 'C', 'F'}, optional\n",
      "        Specify the memory layout of the array. If object is not an array, the\n",
      "        newly created array will be in C order (row major) unless 'F' is\n",
      "        specified, in which case it will be in Fortran order (column major).\n",
      "        If object is an array the following holds.\n",
      "\n",
      "        ===== ========= ===================================================\n",
      "        order  no copy                     copy=True\n",
      "        ===== ========= ===================================================\n",
      "        'K'   unchanged F & C order preserved, otherwise most similar order\n",
      "        'A'   unchanged F order if input is F and not C, otherwise C order\n",
      "        'C'   C order   C order\n",
      "        'F'   F order   F order\n",
      "        ===== ========= ===================================================\n",
      "\n",
      "        When ``copy=None`` and a copy is made for other reasons, the result is\n",
      "        the same as if ``copy=True``, with some exceptions for 'A', see the\n",
      "        Notes section. The default order is 'K'.\n",
      "    subok : bool, optional\n",
      "        If True, then sub-classes will be passed-through, otherwise\n",
      "        the returned array will be forced to be a base-class array (default).\n",
      "    ndmin : int, optional\n",
      "        Specifies the minimum number of dimensions that the resulting\n",
      "        array should have.  Ones will be prepended to the shape as\n",
      "        needed to meet this requirement.\n",
      "    like : array_like, optional\n",
      "        Reference object to allow the creation of arrays which are not\n",
      "        NumPy arrays. If an array-like passed in as ``like`` supports\n",
      "        the ``__array_function__`` protocol, the result will be defined\n",
      "        by it. In this case, it ensures the creation of an array object\n",
      "        compatible with that passed in via this argument.\n",
      "\n",
      "        .. versionadded:: 1.20.0\n",
      "\n",
      "    Returns\n",
      "    -------\n",
      "    out : ndarray\n",
      "        An array object satisfying the specified requirements.\n",
      "\n",
      "    See Also\n",
      "    --------\n",
      "    empty_like : Return an empty array with shape and type of input.\n",
      "    ones_like : Return an array of ones with shape and type of input.\n",
      "    zeros_like : Return an array of zeros with shape and type of input.\n",
      "    full_like : Return a new array with shape of input filled with value.\n",
      "    empty : Return a new uninitialized array.\n",
      "    ones : Return a new array setting values to one.\n",
      "    zeros : Return a new array setting values to zero.\n",
      "    full : Return a new array of given shape filled with value.\n",
      "    copy: Return an array copy of the given object.\n",
      "\n",
      "\n",
      "    Notes\n",
      "    -----\n",
      "    When order is 'A' and ``object`` is an array in neither 'C' nor 'F' order,\n",
      "    and a copy is forced by a change in dtype, then the order of the result is\n",
      "    not necessarily 'C' as expected. This is likely a bug.\n",
      "\n",
      "    Examples\n",
      "    --------\n",
      "    >>> import numpy as np\n",
      "    >>> np.array([1, 2, 3])\n",
      "    array([1, 2, 3])\n",
      "\n",
      "    Upcasting:\n",
      "\n",
      "    >>> np.array([1, 2, 3.0])\n",
      "    array([ 1.,  2.,  3.])\n",
      "\n",
      "    More than one dimension:\n",
      "\n",
      "    >>> np.array([[1, 2], [3, 4]])\n",
      "    array([[1, 2],\n",
      "           [3, 4]])\n",
      "\n",
      "    Minimum dimensions 2:\n",
      "\n",
      "    >>> np.array([1, 2, 3], ndmin=2)\n",
      "    array([[1, 2, 3]])\n",
      "\n",
      "    Type provided:\n",
      "\n",
      "    >>> np.array([1, 2, 3], dtype=complex)\n",
      "    array([ 1.+0.j,  2.+0.j,  3.+0.j])\n",
      "\n",
      "    Data-type consisting of more than one element:\n",
      "\n",
      "    >>> x = np.array([(1,2),(3,4)],dtype=[('a','<i4'),('b','<i4')])\n",
      "    >>> x['a']\n",
      "    array([1, 3], dtype=int32)\n",
      "\n",
      "    Creating an array from sub-classes:\n",
      "\n",
      "    >>> np.array(np.asmatrix('1 2; 3 4'))\n",
      "    array([[1, 2],\n",
      "           [3, 4]])\n",
      "\n",
      "    >>> np.array(np.asmatrix('1 2; 3 4'), subok=True)\n",
      "    matrix([[1, 2],\n",
      "            [3, 4]])\n",
      "\n"
     ]
    }
   ],
   "source": [
    "#Access documentation of any function using help() or ?(jupiter environment) after any object of function\n",
    "help(np.array)"
   ]
  },
  {
   "cell_type": "code",
   "execution_count": 11,
   "id": "0e39c927",
   "metadata": {},
   "outputs": [
    {
     "data": {
      "text/plain": [
       "(3, 3)"
      ]
     },
     "execution_count": 11,
     "metadata": {},
     "output_type": "execute_result"
    }
   ],
   "source": [
    "#to get the rows and coloumns of a matrix or array\n",
    "x.shape\n"
   ]
  },
  {
   "cell_type": "markdown",
   "id": "73713b4e",
   "metadata": {},
   "source": [
    " A method is a function that is associated with an object. For instance, method given an array x, the expression x.sum() sums all of its elements, using the sum() method for arrays. The call x.sum() automatically provides x as the .sum() first argument to its sum() method."
   ]
  },
  {
   "cell_type": "code",
   "execution_count": 12,
   "id": "6eabda3a",
   "metadata": {},
   "outputs": [
    {
     "data": {
      "text/plain": [
       "np.int64(42)"
      ]
     },
     "execution_count": 12,
     "metadata": {},
     "output_type": "execute_result"
    }
   ],
   "source": [
    "x = np.array([[1,2,3],[3,4,5],[7,8,9]])\n",
    "x.sum()\n",
    "#summed up each individual element"
   ]
  },
  {
   "cell_type": "code",
   "execution_count": 13,
   "id": "ff6fc9e1",
   "metadata": {},
   "outputs": [
    {
     "data": {
      "text/plain": [
       "np.int64(42)"
      ]
     },
     "execution_count": 13,
     "metadata": {},
     "output_type": "execute_result"
    }
   ],
   "source": [
    "#alternate method\n",
    "np.sum(x)"
   ]
  },
  {
   "cell_type": "code",
   "execution_count": 14,
   "id": "1ad3eddd",
   "metadata": {},
   "outputs": [
    {
     "name": "stdout",
     "output_type": "stream",
     "text": [
      "start:\n",
      " [[1 2 3]\n",
      " [3 4 5]\n",
      " [7 8 9]\n",
      " [2 3 7]] \n",
      " (4, 3)\n",
      "[[1 2 3 3]\n",
      " [4 5 7 8]\n",
      " [9 2 3 7]] \n",
      " (3, 4)\n"
     ]
    }
   ],
   "source": [
    "# reshape returns a new array and does not modify the orignal one\n",
    "x = np.array([[1,2,3],[3,4,5],[7,8,9],[2,3,7]])\n",
    "print(\"start:\\n\",x,'\\n',x.shape)\n",
    "y=x.reshape(3,4)\n",
    "print(y,'\\n',y.shape)\n",
    "\n",
    "#the reshape function can only work when the product of the shapes are equal to the number of elements in the touple"
   ]
  },
  {
   "cell_type": "markdown",
   "id": "676b92b8",
   "metadata": {},
   "source": [
    " numpy arrays are specified as a sequence of rows. This is called <b>row-major ordering</b>, in row major ordering elements are filled row1 first then row 2 , as opposed to coloumn major ordering where 1sr column is filled then the 2nd , numpy is ROW major ordering \n",
    " also , pythonuses 0 based indexing that is 1st elemt is at 0th position"
   ]
  },
  {
   "cell_type": "code",
   "execution_count": 15,
   "id": "60bc3fdc",
   "metadata": {},
   "outputs": [
    {
     "name": "stdout",
     "output_type": "stream",
     "text": [
      "[[1 2 3 3]\n",
      " [4 5 7 8]\n",
      " [9 2 3 7]]\n",
      "first row and first column 1\n",
      "3rd row and 2nd column 2\n",
      "2nd row and 4th column 8\n",
      "accesing row 2 [4 5 7 8]\n",
      "accessing column 2 [2 5 2]\n"
     ]
    }
   ],
   "source": [
    "print(y)\n",
    "print(f\"first row and first column {y[0,0]}\")\n",
    "print(f\"3rd row and 2nd column {y[2,1]}\")\n",
    "print(f\"2nd row and 4th column {y[1,3]}\")\n",
    "print(f\"accesing row 2 {y[1,:]}\")\n",
    "print(f\"accessing column 2 {y[:,1]}\")\n",
    "\n",
    "#: is used to access single columns or rows in numpy"
   ]
  },
  {
   "cell_type": "code",
   "execution_count": 16,
   "id": "56f50914",
   "metadata": {},
   "outputs": [
    {
     "name": "stdout",
     "output_type": "stream",
     "text": [
      "Orignal list \n",
      "[[1 2 3]\n",
      " [3 4 5]\n",
      " [7 8 9]\n",
      " [2 3 7]]\n",
      "list after reshape \n",
      " [[1 2 3 3]\n",
      " [4 5 7 8]\n",
      " [9 2 3 7]]\n",
      "reshaped list \n",
      " [[23  2  3  3]\n",
      " [ 4  5  7  8]\n",
      " [ 9  2  3  7]]\n",
      "orignal list\n",
      "[[23  2  3]\n",
      " [ 3  4  5]\n",
      " [ 7  8  9]\n",
      " [ 2  3  7]]\n"
     ]
    }
   ],
   "source": [
    "print(f\"Orignal list \\n{x}\")\n",
    "print(f\"list after reshape \\n {y}\")\n",
    "#changing the 1st element of the matrix 0,0\n",
    "y[0,0]=23\n",
    "print(f\"reshaped list \\n {y}\")\n",
    "print(f\"orignal list\\n{x}\")\n",
    "\n",
    "\n",
    "# although reshape gives us a new array, the new array references the old one , hence changing the new one changes the old or \n",
    "# changing the old one changes the new reshaped one\n"
   ]
  },
  {
   "cell_type": "markdown",
   "id": "7e0597d0",
   "metadata": {},
   "source": [
    "<h2>TUPPLE</h2>above code we saw that the orignal and new reshaped both get changed if even 1 get changed , that is not the case with tupple as <b>they are inherently immutable</b> "
   ]
  },
  {
   "cell_type": "code",
   "execution_count": 20,
   "id": "c87d701c",
   "metadata": {},
   "outputs": [
    {
     "ename": "TypeError",
     "evalue": "'tuple' object does not support item assignment",
     "output_type": "error",
     "traceback": [
      "\u001b[31m---------------------------------------------------------------------------\u001b[39m",
      "\u001b[31mTypeError\u001b[39m                                 Traceback (most recent call last)",
      "\u001b[36mCell\u001b[39m\u001b[36m \u001b[39m\u001b[32mIn[20]\u001b[39m\u001b[32m, line 2\u001b[39m\n\u001b[32m      1\u001b[39m Tup1 = (\u001b[32m3\u001b[39m,\u001b[32m4\u001b[39m,\u001b[32m5\u001b[39m)\n\u001b[32m----> \u001b[39m\u001b[32m2\u001b[39m \u001b[43mTup1\u001b[49m\u001b[43m[\u001b[49m\u001b[32;43m0\u001b[39;49m\u001b[43m]\u001b[49m=\u001b[32m2\u001b[39m\n",
      "\u001b[31mTypeError\u001b[39m: 'tuple' object does not support item assignment"
     ]
    }
   ],
   "source": [
    "Tup1 = (3,4,5)\n",
    "Tup1[0]=2"
   ]
  },
  {
   "cell_type": "code",
   "execution_count": 24,
   "id": "5a1a51ab",
   "metadata": {},
   "outputs": [
    {
     "data": {
      "text/plain": [
       "(array([[23,  2,  3,  3],\n",
       "        [ 4,  5,  7,  8],\n",
       "        [ 9,  2,  3,  7]]),\n",
       " (3, 4),\n",
       " 2,\n",
       " array([[23,  4,  9],\n",
       "        [ 2,  5,  2],\n",
       "        [ 3,  7,  3],\n",
       "        [ 3,  8,  7]]),\n",
       " (4, 3),\n",
       " 2)"
      ]
     },
     "execution_count": 24,
     "metadata": {},
     "output_type": "execute_result"
    }
   ],
   "source": [
    "y,y.shape,y.ndim,y.T, y.T.shape, y.T.ndim"
   ]
  },
  {
   "cell_type": "code",
   "execution_count": 25,
   "id": "d300b6a0",
   "metadata": {},
   "outputs": [
    {
     "data": {
      "text/plain": [
       "array([[4.79583152, 1.41421356, 1.73205081, 1.73205081],\n",
       "       [2.        , 2.23606798, 2.64575131, 2.82842712],\n",
       "       [3.        , 1.41421356, 1.73205081, 2.64575131]])"
      ]
     },
     "execution_count": 25,
     "metadata": {},
     "output_type": "execute_result"
    }
   ],
   "source": [
    "np.sqrt(y)"
   ]
  },
  {
   "cell_type": "code",
   "execution_count": 26,
   "id": "e664ffd2",
   "metadata": {},
   "outputs": [
    {
     "data": {
      "text/plain": [
       "array([[529,   4,   9,   9],\n",
       "       [ 16,  25,  49,  64],\n",
       "       [ 81,   4,   9,  49]])"
      ]
     },
     "execution_count": 26,
     "metadata": {},
     "output_type": "execute_result"
    }
   ],
   "source": [
    "np.square(y)"
   ]
  },
  {
   "cell_type": "code",
   "execution_count": 27,
   "id": "7c0f55fd",
   "metadata": {},
   "outputs": [
    {
     "data": {
      "text/plain": [
       "array([[529,  16,  81],\n",
       "       [  4,  25,   4],\n",
       "       [  9,  49,   9],\n",
       "       [  9,  64,  49]])"
      ]
     },
     "execution_count": 27,
     "metadata": {},
     "output_type": "execute_result"
    }
   ],
   "source": [
    "np.square(y).T"
   ]
  },
  {
   "cell_type": "code",
   "execution_count": 28,
   "id": "dd604f30",
   "metadata": {},
   "outputs": [
    {
     "data": {
      "text/plain": [
       "array([[4.79583152, 1.41421356, 1.73205081, 1.73205081],\n",
       "       [2.        , 2.23606798, 2.64575131, 2.82842712],\n",
       "       [3.        , 1.41421356, 1.73205081, 2.64575131]])"
      ]
     },
     "execution_count": 28,
     "metadata": {},
     "output_type": "execute_result"
    }
   ],
   "source": [
    "y**0.5"
   ]
  },
  {
   "cell_type": "code",
   "execution_count": 29,
   "id": "641a1508",
   "metadata": {},
   "outputs": [
    {
     "data": {
      "text/plain": [
       "array([[529,   4,   9,   9],\n",
       "       [ 16,  25,  49,  64],\n",
       "       [ 81,   4,   9,  49]])"
      ]
     },
     "execution_count": 29,
     "metadata": {},
     "output_type": "execute_result"
    }
   ],
   "source": [
    "y**2"
   ]
  },
  {
   "cell_type": "code",
   "execution_count": 31,
   "id": "f9e52832",
   "metadata": {},
   "outputs": [
    {
     "name": "stdout",
     "output_type": "stream",
     "text": [
      "Help on method normal in module numpy.random:\n",
      "\n",
      "normal(loc=0.0, scale=1.0, size=None) method of numpy.random.mtrand.RandomState instance\n",
      "    normal(loc=0.0, scale=1.0, size=None)\n",
      "\n",
      "    Draw random samples from a normal (Gaussian) distribution.\n",
      "\n",
      "    The probability density function of the normal distribution, first\n",
      "    derived by De Moivre and 200 years later by both Gauss and Laplace\n",
      "    independently [2]_, is often called the bell curve because of\n",
      "    its characteristic shape (see the example below).\n",
      "\n",
      "    The normal distributions occurs often in nature.  For example, it\n",
      "    describes the commonly occurring distribution of samples influenced\n",
      "    by a large number of tiny, random disturbances, each with its own\n",
      "    unique distribution [2]_.\n",
      "\n",
      "    .. note::\n",
      "        New code should use the `~numpy.random.Generator.normal`\n",
      "        method of a `~numpy.random.Generator` instance instead;\n",
      "        please see the :ref:`random-quick-start`.\n",
      "\n",
      "    Parameters\n",
      "    ----------\n",
      "    loc : float or array_like of floats\n",
      "        Mean (\"centre\") of the distribution.\n",
      "    scale : float or array_like of floats\n",
      "        Standard deviation (spread or \"width\") of the distribution. Must be\n",
      "        non-negative.\n",
      "    size : int or tuple of ints, optional\n",
      "        Output shape.  If the given shape is, e.g., ``(m, n, k)``, then\n",
      "        ``m * n * k`` samples are drawn.  If size is ``None`` (default),\n",
      "        a single value is returned if ``loc`` and ``scale`` are both scalars.\n",
      "        Otherwise, ``np.broadcast(loc, scale).size`` samples are drawn.\n",
      "\n",
      "    Returns\n",
      "    -------\n",
      "    out : ndarray or scalar\n",
      "        Drawn samples from the parameterized normal distribution.\n",
      "\n",
      "    See Also\n",
      "    --------\n",
      "    scipy.stats.norm : probability density function, distribution or\n",
      "        cumulative density function, etc.\n",
      "    random.Generator.normal: which should be used for new code.\n",
      "\n",
      "    Notes\n",
      "    -----\n",
      "    The probability density for the Gaussian distribution is\n",
      "\n",
      "    .. math:: p(x) = \\frac{1}{\\sqrt{ 2 \\pi \\sigma^2 }}\n",
      "                     e^{ - \\frac{ (x - \\mu)^2 } {2 \\sigma^2} },\n",
      "\n",
      "    where :math:`\\mu` is the mean and :math:`\\sigma` the standard\n",
      "    deviation. The square of the standard deviation, :math:`\\sigma^2`,\n",
      "    is called the variance.\n",
      "\n",
      "    The function has its peak at the mean, and its \"spread\" increases with\n",
      "    the standard deviation (the function reaches 0.607 times its maximum at\n",
      "    :math:`x + \\sigma` and :math:`x - \\sigma` [2]_).  This implies that\n",
      "    normal is more likely to return samples lying close to the mean, rather\n",
      "    than those far away.\n",
      "\n",
      "    References\n",
      "    ----------\n",
      "    .. [1] Wikipedia, \"Normal distribution\",\n",
      "           https://en.wikipedia.org/wiki/Normal_distribution\n",
      "    .. [2] P. R. Peebles Jr., \"Central Limit Theorem\" in \"Probability,\n",
      "           Random Variables and Random Signal Principles\", 4th ed., 2001,\n",
      "           pp. 51, 51, 125.\n",
      "\n",
      "    Examples\n",
      "    --------\n",
      "    Draw samples from the distribution:\n",
      "\n",
      "    >>> mu, sigma = 0, 0.1 # mean and standard deviation\n",
      "    >>> s = np.random.normal(mu, sigma, 1000)\n",
      "\n",
      "    Verify the mean and the standard deviation:\n",
      "\n",
      "    >>> abs(mu - np.mean(s))\n",
      "    0.0  # may vary\n",
      "\n",
      "    >>> abs(sigma - np.std(s, ddof=1))\n",
      "    0.0  # may vary\n",
      "\n",
      "    Display the histogram of the samples, along with\n",
      "    the probability density function:\n",
      "\n",
      "    >>> import matplotlib.pyplot as plt\n",
      "    >>> count, bins, ignored = plt.hist(s, 30, density=True)\n",
      "    >>> plt.plot(bins, 1/(sigma * np.sqrt(2 * np.pi)) *\n",
      "    ...                np.exp( - (bins - mu)**2 / (2 * sigma**2) ),\n",
      "    ...          linewidth=2, color='r')\n",
      "    >>> plt.show()\n",
      "\n",
      "    Two-by-four array of samples from the normal distribution with\n",
      "    mean 3 and standard deviation 2.5:\n",
      "\n",
      "    >>> np.random.normal(3, 2.5, size=(2, 4))\n",
      "    array([[-4.49401501,  4.00950034, -1.81814867,  7.29718677],   # random\n",
      "           [ 0.39924804,  4.68456316,  4.99394529,  4.84057254]])  # random\n",
      "\n"
     ]
    }
   ],
   "source": [
    "help(np.random.normal)"
   ]
  },
  {
   "cell_type": "code",
   "execution_count": 35,
   "id": "b708b1e5",
   "metadata": {},
   "outputs": [
    {
     "data": {
      "text/plain": [
       "array([-1.49784896, -1.05844346,  0.74292823, -1.77654044,  0.2363559 ,\n",
       "       -1.29342155,  1.07248617,  1.09479873, -0.69704265,  0.87291725,\n",
       "        1.723091  ,  0.66973142, -0.44349115,  0.91518347,  1.00327756,\n",
       "       -1.02565758, -0.73498879,  0.1271389 , -0.24197097, -0.48125299,\n",
       "        2.05259635,  0.47456297,  1.54972533, -1.07963518,  0.17184782,\n",
       "       -0.0330232 , -0.81433092, -0.71320684, -1.99908561,  0.912566  ,\n",
       "       -0.08237118, -0.17972592, -0.45181563, -0.24691229, -0.46022211,\n",
       "        0.86676048,  2.36849453,  3.05886458,  0.49991143, -0.66729236,\n",
       "        0.01246304, -0.39038344, -1.32756904, -0.83055281, -0.20485404,\n",
       "        0.41239825,  0.33200438, -0.32318948, -0.29156573,  0.44776353])"
      ]
     },
     "execution_count": 35,
     "metadata": {},
     "output_type": "execute_result"
    }
   ],
   "source": [
    "l= np.random.normal(size=50)\n",
    "#by def loc/mean =0 and std, dev/ scale= 1\n",
    "l"
   ]
  },
  {
   "cell_type": "code",
   "execution_count": 48,
   "id": "d5021e59",
   "metadata": {},
   "outputs": [
    {
     "name": "stdout",
     "output_type": "stream",
     "text": [
      "max val= 3.0588645846000704\n",
      "min val= -1.999085608564085\n",
      "mean val= 0.0454294598716744\n",
      "std dev= 1.03859649073083\n",
      "variance= 1.078682670558395\n"
     ]
    },
    {
     "data": {
      "text/plain": [
       "((50,), 1)"
      ]
     },
     "execution_count": 48,
     "metadata": {},
     "output_type": "execute_result"
    }
   ],
   "source": [
    "print(f\"max val= {l.max()}\\nmin val= {l.min()}\\nmean val= {l.mean()}\")\n",
    "print(f\"std dev= {l.std()}\\nvariance= {l.var()}\")\n",
    "l.shape, l.ndim\n",
    "#as u see mean is 0 and std dev is 1 as we used default values"
   ]
  },
  {
   "cell_type": "code",
   "execution_count": 43,
   "id": "80c0b663",
   "metadata": {},
   "outputs": [
    {
     "data": {
      "text/plain": [
       "array([49.43380726, 50.25983079, 52.08805277, 47.60765405, 48.85287992,\n",
       "       46.93447582, 49.35921388, 51.31073078, 49.65757145, 51.36055406,\n",
       "       52.44248991, 51.03630573, 50.65533526, 51.37139921, 49.90742164,\n",
       "       47.66142601, 49.61807305, 49.98625517, 50.76791719, 50.05149086,\n",
       "       53.13146499, 50.42315475, 52.15343871, 49.02464561, 51.37977783,\n",
       "       49.9771441 , 47.49616896, 51.06261064, 48.3541432 , 50.47308085,\n",
       "       50.80951147, 49.40042189, 50.44665937, 48.41059736, 49.04443572,\n",
       "       51.67997365, 52.80351722, 53.57731934, 51.23572937, 49.04800239,\n",
       "       51.12715644, 50.47644042, 47.49814822, 50.5185515 , 50.89907531,\n",
       "       50.22231136, 51.2843789 , 50.67670334, 48.91036517, 49.83404021])"
      ]
     },
     "execution_count": 43,
     "metadata": {},
     "output_type": "execute_result"
    }
   ],
   "source": [
    "\n",
    "m= l + np.random.normal(loc=50, scale=1, size=50)\n",
    "m"
   ]
  },
  {
   "cell_type": "code",
   "execution_count": 49,
   "id": "194ece81",
   "metadata": {},
   "outputs": [
    {
     "name": "stdout",
     "output_type": "stream",
     "text": [
      "Help on _ArrayFunctionDispatcher in module numpy:\n",
      "\n",
      "corrcoef(x, y=None, rowvar=True, bias=<no value>, ddof=<no value>, *, dtype=None)\n",
      "    Return Pearson product-moment correlation coefficients.\n",
      "\n",
      "    Please refer to the documentation for `cov` for more detail.  The\n",
      "    relationship between the correlation coefficient matrix, `R`, and the\n",
      "    covariance matrix, `C`, is\n",
      "\n",
      "    .. math:: R_{ij} = \\frac{ C_{ij} } { \\sqrt{ C_{ii} C_{jj} } }\n",
      "\n",
      "    The values of `R` are between -1 and 1, inclusive.\n",
      "\n",
      "    Parameters\n",
      "    ----------\n",
      "    x : array_like\n",
      "        A 1-D or 2-D array containing multiple variables and observations.\n",
      "        Each row of `x` represents a variable, and each column a single\n",
      "        observation of all those variables. Also see `rowvar` below.\n",
      "    y : array_like, optional\n",
      "        An additional set of variables and observations. `y` has the same\n",
      "        shape as `x`.\n",
      "    rowvar : bool, optional\n",
      "        If `rowvar` is True (default), then each row represents a\n",
      "        variable, with observations in the columns. Otherwise, the relationship\n",
      "        is transposed: each column represents a variable, while the rows\n",
      "        contain observations.\n",
      "    bias : _NoValue, optional\n",
      "        Has no effect, do not use.\n",
      "\n",
      "        .. deprecated:: 1.10.0\n",
      "    ddof : _NoValue, optional\n",
      "        Has no effect, do not use.\n",
      "\n",
      "        .. deprecated:: 1.10.0\n",
      "    dtype : data-type, optional\n",
      "        Data-type of the result. By default, the return data-type will have\n",
      "        at least `numpy.float64` precision.\n",
      "\n",
      "        .. versionadded:: 1.20\n",
      "\n",
      "    Returns\n",
      "    -------\n",
      "    R : ndarray\n",
      "        The correlation coefficient matrix of the variables.\n",
      "\n",
      "    See Also\n",
      "    --------\n",
      "    cov : Covariance matrix\n",
      "\n",
      "    Notes\n",
      "    -----\n",
      "    Due to floating point rounding the resulting array may not be Hermitian,\n",
      "    the diagonal elements may not be 1, and the elements may not satisfy the\n",
      "    inequality abs(a) <= 1. The real and imaginary parts are clipped to the\n",
      "    interval [-1,  1] in an attempt to improve on that situation but is not\n",
      "    much help in the complex case.\n",
      "\n",
      "    This function accepts but discards arguments `bias` and `ddof`.  This is\n",
      "    for backwards compatibility with previous versions of this function.  These\n",
      "    arguments had no effect on the return values of the function and can be\n",
      "    safely ignored in this and previous versions of numpy.\n",
      "\n",
      "    Examples\n",
      "    --------\n",
      "    >>> import numpy as np\n",
      "\n",
      "    In this example we generate two random arrays, ``xarr`` and ``yarr``, and\n",
      "    compute the row-wise and column-wise Pearson correlation coefficients,\n",
      "    ``R``. Since ``rowvar`` is  true by  default, we first find the row-wise\n",
      "    Pearson correlation coefficients between the variables of ``xarr``.\n",
      "\n",
      "    >>> import numpy as np\n",
      "    >>> rng = np.random.default_rng(seed=42)\n",
      "    >>> xarr = rng.random((3, 3))\n",
      "    >>> xarr\n",
      "    array([[0.77395605, 0.43887844, 0.85859792],\n",
      "           [0.69736803, 0.09417735, 0.97562235],\n",
      "           [0.7611397 , 0.78606431, 0.12811363]])\n",
      "    >>> R1 = np.corrcoef(xarr)\n",
      "    >>> R1\n",
      "    array([[ 1.        ,  0.99256089, -0.68080986],\n",
      "           [ 0.99256089,  1.        , -0.76492172],\n",
      "           [-0.68080986, -0.76492172,  1.        ]])\n",
      "\n",
      "    If we add another set of variables and observations ``yarr``, we can\n",
      "    compute the row-wise Pearson correlation coefficients between the\n",
      "    variables in ``xarr`` and ``yarr``.\n",
      "\n",
      "    >>> yarr = rng.random((3, 3))\n",
      "    >>> yarr\n",
      "    array([[0.45038594, 0.37079802, 0.92676499],\n",
      "           [0.64386512, 0.82276161, 0.4434142 ],\n",
      "           [0.22723872, 0.55458479, 0.06381726]])\n",
      "    >>> R2 = np.corrcoef(xarr, yarr)\n",
      "    >>> R2\n",
      "    array([[ 1.        ,  0.99256089, -0.68080986,  0.75008178, -0.934284  ,\n",
      "            -0.99004057],\n",
      "           [ 0.99256089,  1.        , -0.76492172,  0.82502011, -0.97074098,\n",
      "            -0.99981569],\n",
      "           [-0.68080986, -0.76492172,  1.        , -0.99507202,  0.89721355,\n",
      "             0.77714685],\n",
      "           [ 0.75008178,  0.82502011, -0.99507202,  1.        , -0.93657855,\n",
      "            -0.83571711],\n",
      "           [-0.934284  , -0.97074098,  0.89721355, -0.93657855,  1.        ,\n",
      "             0.97517215],\n",
      "           [-0.99004057, -0.99981569,  0.77714685, -0.83571711,  0.97517215,\n",
      "             1.        ]])\n",
      "\n",
      "    Finally if we use the option ``rowvar=False``, the columns are now\n",
      "    being treated as the variables and we will find the column-wise Pearson\n",
      "    correlation coefficients between variables in ``xarr`` and ``yarr``.\n",
      "\n",
      "    >>> R3 = np.corrcoef(xarr, yarr, rowvar=False)\n",
      "    >>> R3\n",
      "    array([[ 1.        ,  0.77598074, -0.47458546, -0.75078643, -0.9665554 ,\n",
      "             0.22423734],\n",
      "           [ 0.77598074,  1.        , -0.92346708, -0.99923895, -0.58826587,\n",
      "            -0.44069024],\n",
      "           [-0.47458546, -0.92346708,  1.        ,  0.93773029,  0.23297648,\n",
      "             0.75137473],\n",
      "           [-0.75078643, -0.99923895,  0.93773029,  1.        ,  0.55627469,\n",
      "             0.47536961],\n",
      "           [-0.9665554 , -0.58826587,  0.23297648,  0.55627469,  1.        ,\n",
      "            -0.46666491],\n",
      "           [ 0.22423734, -0.44069024,  0.75137473,  0.47536961, -0.46666491,\n",
      "             1.        ]])\n",
      "\n"
     ]
    }
   ],
   "source": [
    "help(np.corrcoef)"
   ]
  },
  {
   "cell_type": "code",
   "execution_count": 62,
   "id": "daef7e0b",
   "metadata": {},
   "outputs": [
    {
     "data": {
      "text/plain": [
       "array([[1.        , 0.78699363],\n",
       "       [0.78699363, 1.        ]])"
      ]
     },
     "execution_count": 62,
     "metadata": {},
     "output_type": "execute_result"
    }
   ],
   "source": [
    "np.corrcoef(l,m)"
   ]
  },
  {
   "cell_type": "code",
   "execution_count": 66,
   "id": "76841593",
   "metadata": {},
   "outputs": [
    {
     "name": "stdout",
     "output_type": "stream",
     "text": [
      "Help on cython_function_or_method in module numpy.random:\n",
      "\n",
      "default_rng(seed=None)\n",
      "    default_rng(seed=None)\n",
      "\n",
      "    Construct a new Generator with the default BitGenerator (PCG64).\n",
      "\n",
      "    Parameters\n",
      "    ----------\n",
      "    seed : {None, int, array_like[ints], SeedSequence, BitGenerator, Generator, RandomState}, optional\n",
      "        A seed to initialize the `BitGenerator`. If None, then fresh,\n",
      "        unpredictable entropy will be pulled from the OS. If an ``int`` or\n",
      "        ``array_like[ints]`` is passed, then all values must be non-negative and will be\n",
      "        passed to `SeedSequence` to derive the initial `BitGenerator` state. One may also\n",
      "        pass in a `SeedSequence` instance.\n",
      "        Additionally, when passed a `BitGenerator`, it will be wrapped by\n",
      "        `Generator`. If passed a `Generator`, it will be returned unaltered.\n",
      "        When passed a legacy `RandomState` instance it will be coerced to a `Generator`.\n",
      "\n",
      "    Returns\n",
      "    -------\n",
      "    Generator\n",
      "        The initialized generator object.\n",
      "\n",
      "    Notes\n",
      "    -----\n",
      "    If ``seed`` is not a `BitGenerator` or a `Generator`, a new `BitGenerator`\n",
      "    is instantiated. This function does not manage a default global instance.\n",
      "\n",
      "    See :ref:`seeding_and_entropy` for more information about seeding.\n",
      "\n",
      "    Examples\n",
      "    --------\n",
      "    `default_rng` is the recommended constructor for the random number class\n",
      "    `Generator`. Here are several ways we can construct a random\n",
      "    number generator using `default_rng` and the `Generator` class.\n",
      "\n",
      "    Here we use `default_rng` to generate a random float:\n",
      "\n",
      "    >>> import numpy as np\n",
      "    >>> rng = np.random.default_rng(12345)\n",
      "    >>> print(rng)\n",
      "    Generator(PCG64)\n",
      "    >>> rfloat = rng.random()\n",
      "    >>> rfloat\n",
      "    0.22733602246716966\n",
      "    >>> type(rfloat)\n",
      "    <class 'float'>\n",
      "\n",
      "    Here we use `default_rng` to generate 3 random integers between 0\n",
      "    (inclusive) and 10 (exclusive):\n",
      "\n",
      "    >>> import numpy as np\n",
      "    >>> rng = np.random.default_rng(12345)\n",
      "    >>> rints = rng.integers(low=0, high=10, size=3)\n",
      "    >>> rints\n",
      "    array([6, 2, 7])\n",
      "    >>> type(rints[0])\n",
      "    <class 'numpy.int64'>\n",
      "\n",
      "    Here we specify a seed so that we have reproducible results:\n",
      "\n",
      "    >>> import numpy as np\n",
      "    >>> rng = np.random.default_rng(seed=42)\n",
      "    >>> print(rng)\n",
      "    Generator(PCG64)\n",
      "    >>> arr1 = rng.random((3, 3))\n",
      "    >>> arr1\n",
      "    array([[0.77395605, 0.43887844, 0.85859792],\n",
      "           [0.69736803, 0.09417735, 0.97562235],\n",
      "           [0.7611397 , 0.78606431, 0.12811363]])\n",
      "\n",
      "    If we exit and restart our Python interpreter, we'll see that we\n",
      "    generate the same random numbers again:\n",
      "\n",
      "    >>> import numpy as np\n",
      "    >>> rng = np.random.default_rng(seed=42)\n",
      "    >>> arr2 = rng.random((3, 3))\n",
      "    >>> arr2\n",
      "    array([[0.77395605, 0.43887844, 0.85859792],\n",
      "           [0.69736803, 0.09417735, 0.97562235],\n",
      "           [0.7611397 , 0.78606431, 0.12811363]])\n",
      "\n"
     ]
    }
   ],
   "source": [
    "help(np.random.default_rng)\n",
    "#we use this instead of the normal random generator as it is \n",
    "# more flexible and one can generate the same random numbers by setting a seed value"
   ]
  },
  {
   "cell_type": "code",
   "execution_count": 67,
   "id": "171cd84f",
   "metadata": {},
   "outputs": [
    {
     "name": "stdout",
     "output_type": "stream",
     "text": [
      "[-6.75022171 -2.59651743]\n",
      "[-1.9304576  -4.22380734]\n"
     ]
    }
   ],
   "source": [
    "print(np.random.normal(scale=5, size=2))\n",
    "\n",
    "print(np.random.normal(scale=5, size=2))"
   ]
  },
  {
   "cell_type": "code",
   "execution_count": 82,
   "id": "e2df4f92",
   "metadata": {},
   "outputs": [
    {
     "name": "stdout",
     "output_type": "stream",
     "text": [
      "[ 4.09482632 -1.07485605]\n",
      "[ 4.09482632 -1.07485605]\n"
     ]
    }
   ],
   "source": [
    "rng = np.random.default_rng(1303)\n",
    "print(rng.normal(scale=5, size=2))\n",
    "rng2 = np.random.default_rng(1303)\n",
    "print(rng2.normal(scale=5, size=2))\n",
    "\n",
    "#different variables but same seed value gives same random numbers, be sure to keep the scale same"
   ]
  },
  {
   "cell_type": "code",
   "execution_count": 90,
   "id": "d65c6710",
   "metadata": {},
   "outputs": [
    {
     "data": {
      "text/plain": [
       "(array([ 2.04091912, -2.55566503,  0.41809885, -0.56776961, -0.45264929,\n",
       "        -0.21559716, -2.01998613, -0.23193238, -0.86521308,  3.32299952]),\n",
       " np.float64(-0.1126795190952861),\n",
       " np.float64(1.6505576756498128),\n",
       " np.float64(2.7243406406465125),\n",
       " np.float64(-0.1126795190952861))"
      ]
     },
     "execution_count": 90,
     "metadata": {},
     "output_type": "execute_result"
    }
   ],
   "source": [
    "q= np.random.default_rng(3).standard_normal(10)\n",
    "q, q.mean(), q.std(), q.var(),np.mean(q)"
   ]
  },
  {
   "cell_type": "code",
   "execution_count": 99,
   "id": "19f5789b",
   "metadata": {},
   "outputs": [
    {
     "name": "stdout",
     "output_type": "stream",
     "text": [
      "2.7243406406465125, 2.7243406406465125 , 2.7243406406465125\n"
     ]
    }
   ],
   "source": [
    "print(f\"{np.var(q)}, {q.var()} , {np.mean((q-q.mean())**2)}\")"
   ]
  },
  {
   "cell_type": "code",
   "execution_count": 100,
   "id": "c851dac5",
   "metadata": {},
   "outputs": [
    {
     "data": {
      "text/plain": [
       "(np.float64(1.6505576756498128), np.float64(1.6505576756498128))"
      ]
     },
     "execution_count": 100,
     "metadata": {},
     "output_type": "execute_result"
    }
   ],
   "source": [
    "np.sqrt(np.var(q)), np.std(q)"
   ]
  },
  {
   "cell_type": "code",
   "execution_count": null,
   "id": "7db97451",
   "metadata": {},
   "outputs": [],
   "source": []
  }
 ],
 "metadata": {
  "kernelspec": {
   "display_name": "Python 3 (ipykernel)",
   "language": "python",
   "name": "python3"
  },
  "language_info": {
   "codemirror_mode": {
    "name": "ipython",
    "version": 3
   },
   "file_extension": ".py",
   "mimetype": "text/x-python",
   "name": "python",
   "nbconvert_exporter": "python",
   "pygments_lexer": "ipython3",
   "version": "3.12.1"
  }
 },
 "nbformat": 4,
 "nbformat_minor": 5
}
