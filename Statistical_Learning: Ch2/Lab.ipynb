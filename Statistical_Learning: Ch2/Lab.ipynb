{
 "cells": [
  {
   "cell_type": "markdown",
   "id": "9a39b0fb",
   "metadata": {},
   "source": [
    "<b><h1>Basic Commands</b></h1>"
   ]
  },
  {
   "cell_type": "code",
   "execution_count": 93,
   "id": "718e7ee5",
   "metadata": {},
   "outputs": [
    {
     "name": "stdout",
     "output_type": "stream",
     "text": [
      "fit a model with 11 variables\n"
     ]
    }
   ],
   "source": [
    "print(\"fit a model with\", 11, \"variables\")"
   ]
  },
  {
   "cell_type": "code",
   "execution_count": 94,
   "id": "8361a7d1",
   "metadata": {},
   "outputs": [
    {
     "data": {
      "text/plain": [
       "8"
      ]
     },
     "execution_count": 94,
     "metadata": {},
     "output_type": "execute_result"
    }
   ],
   "source": [
    "3+5"
   ]
  },
  {
   "cell_type": "code",
   "execution_count": 95,
   "id": "4c4ceef0",
   "metadata": {},
   "outputs": [
    {
     "data": {
      "text/plain": [
       "'helloworld'"
      ]
     },
     "execution_count": 95,
     "metadata": {},
     "output_type": "execute_result"
    }
   ],
   "source": [
    "\"hello\"+\"world\""
   ]
  },
  {
   "cell_type": "code",
   "execution_count": 96,
   "id": "04836fad",
   "metadata": {},
   "outputs": [
    {
     "name": "stdout",
     "output_type": "stream",
     "text": [
      "[3, 4, 5, 5, 8, 9]\n"
     ]
    }
   ],
   "source": [
    "# In Python, lists hold arbitrary objects, and are added using concatenation\n",
    "x=[3,4,5]\n",
    "y=[5,8,9]\n",
    "print(x+y)"
   ]
  },
  {
   "cell_type": "markdown",
   "id": "0a95bd70",
   "metadata": {},
   "source": [
    "<b><h1>NUMPY</h1></b>"
   ]
  },
  {
   "cell_type": "code",
   "execution_count": 97,
   "id": "a23aae71",
   "metadata": {},
   "outputs": [],
   "source": [
    "import numpy as np"
   ]
  },
  {
   "cell_type": "code",
   "execution_count": 98,
   "id": "4a6ddcf9",
   "metadata": {},
   "outputs": [
    {
     "data": {
      "text/plain": [
       "array([ 8, 11, 13])"
      ]
     },
     "execution_count": 98,
     "metadata": {},
     "output_type": "execute_result"
    }
   ],
   "source": [
    "x=np.array([3,4,5])\n",
    "y=np.array([5,7,8])\n",
    "x+y\n",
    "#different from the python addition, here shape must be equal or same "
   ]
  },
  {
   "cell_type": "code",
   "execution_count": 99,
   "id": "6c13d330",
   "metadata": {},
   "outputs": [
    {
     "data": {
      "text/plain": [
       "array([[1, 2, 3],\n",
       "       [3, 4, 5],\n",
       "       [7, 8, 9]])"
      ]
     },
     "execution_count": 99,
     "metadata": {},
     "output_type": "execute_result"
    }
   ],
   "source": [
    "#2D arrays \n",
    "\n",
    "x = np.array([[1,2,3],[3,4,5],[7,8,9]])\n",
    "x"
   ]
  },
  {
   "cell_type": "markdown",
   "id": "f4af3cb5",
   "metadata": {},
   "source": [
    "The object x has several attributes, or associated objects- x.ndim , x,dtype"
   ]
  },
  {
   "cell_type": "code",
   "execution_count": 100,
   "id": "e6d5ba1e",
   "metadata": {},
   "outputs": [
    {
     "name": "stdout",
     "output_type": "stream",
     "text": [
      "2\n",
      "int64\n"
     ]
    }
   ],
   "source": [
    "print(x.ndim)\n",
    "print(x.dtype)\n",
    "#2d matrix or array or vector, comprised of 64bit integers"
   ]
  },
  {
   "cell_type": "code",
   "execution_count": 101,
   "id": "f1379270",
   "metadata": {},
   "outputs": [
    {
     "data": {
      "text/plain": [
       "dtype('float64')"
      ]
     },
     "execution_count": 101,
     "metadata": {},
     "output_type": "execute_result"
    }
   ],
   "source": [
    "#replaced 2 with 2.3\n",
    "x = np.array([[1,2.3,3],[3,4,5],[7,8,9]])\n",
    "x.dtype"
   ]
  },
  {
   "cell_type": "code",
   "execution_count": 102,
   "id": "459150e1",
   "metadata": {},
   "outputs": [
    {
     "name": "stdout",
     "output_type": "stream",
     "text": [
      "Help on built-in function array in module numpy:\n",
      "\n",
      "array(...)\n",
      "    array(object, dtype=None, *, copy=True, order='K', subok=False, ndmin=0,\n",
      "          like=None)\n",
      "\n",
      "    Create an array.\n",
      "\n",
      "    Parameters\n",
      "    ----------\n",
      "    object : array_like\n",
      "        An array, any object exposing the array interface, an object whose\n",
      "        ``__array__`` method returns an array, or any (nested) sequence.\n",
      "        If object is a scalar, a 0-dimensional array containing object is\n",
      "        returned.\n",
      "    dtype : data-type, optional\n",
      "        The desired data-type for the array. If not given, NumPy will try to use\n",
      "        a default ``dtype`` that can represent the values (by applying promotion\n",
      "        rules when necessary.)\n",
      "    copy : bool, optional\n",
      "        If ``True`` (default), then the array data is copied. If ``None``,\n",
      "        a copy will only be made if ``__array__`` returns a copy, if obj is\n",
      "        a nested sequence, or if a copy is needed to satisfy any of the other\n",
      "        requirements (``dtype``, ``order``, etc.). Note that any copy of\n",
      "        the data is shallow, i.e., for arrays with object dtype, the new\n",
      "        array will point to the same objects. See Examples for `ndarray.copy`.\n",
      "        For ``False`` it raises a ``ValueError`` if a copy cannot be avoided.\n",
      "        Default: ``True``.\n",
      "    order : {'K', 'A', 'C', 'F'}, optional\n",
      "        Specify the memory layout of the array. If object is not an array, the\n",
      "        newly created array will be in C order (row major) unless 'F' is\n",
      "        specified, in which case it will be in Fortran order (column major).\n",
      "        If object is an array the following holds.\n",
      "\n",
      "        ===== ========= ===================================================\n",
      "        order  no copy                     copy=True\n",
      "        ===== ========= ===================================================\n",
      "        'K'   unchanged F & C order preserved, otherwise most similar order\n",
      "        'A'   unchanged F order if input is F and not C, otherwise C order\n",
      "        'C'   C order   C order\n",
      "        'F'   F order   F order\n",
      "        ===== ========= ===================================================\n",
      "\n",
      "        When ``copy=None`` and a copy is made for other reasons, the result is\n",
      "        the same as if ``copy=True``, with some exceptions for 'A', see the\n",
      "        Notes section. The default order is 'K'.\n",
      "    subok : bool, optional\n",
      "        If True, then sub-classes will be passed-through, otherwise\n",
      "        the returned array will be forced to be a base-class array (default).\n",
      "    ndmin : int, optional\n",
      "        Specifies the minimum number of dimensions that the resulting\n",
      "        array should have.  Ones will be prepended to the shape as\n",
      "        needed to meet this requirement.\n",
      "    like : array_like, optional\n",
      "        Reference object to allow the creation of arrays which are not\n",
      "        NumPy arrays. If an array-like passed in as ``like`` supports\n",
      "        the ``__array_function__`` protocol, the result will be defined\n",
      "        by it. In this case, it ensures the creation of an array object\n",
      "        compatible with that passed in via this argument.\n",
      "\n",
      "        .. versionadded:: 1.20.0\n",
      "\n",
      "    Returns\n",
      "    -------\n",
      "    out : ndarray\n",
      "        An array object satisfying the specified requirements.\n",
      "\n",
      "    See Also\n",
      "    --------\n",
      "    empty_like : Return an empty array with shape and type of input.\n",
      "    ones_like : Return an array of ones with shape and type of input.\n",
      "    zeros_like : Return an array of zeros with shape and type of input.\n",
      "    full_like : Return a new array with shape of input filled with value.\n",
      "    empty : Return a new uninitialized array.\n",
      "    ones : Return a new array setting values to one.\n",
      "    zeros : Return a new array setting values to zero.\n",
      "    full : Return a new array of given shape filled with value.\n",
      "    copy: Return an array copy of the given object.\n",
      "\n",
      "\n",
      "    Notes\n",
      "    -----\n",
      "    When order is 'A' and ``object`` is an array in neither 'C' nor 'F' order,\n",
      "    and a copy is forced by a change in dtype, then the order of the result is\n",
      "    not necessarily 'C' as expected. This is likely a bug.\n",
      "\n",
      "    Examples\n",
      "    --------\n",
      "    >>> import numpy as np\n",
      "    >>> np.array([1, 2, 3])\n",
      "    array([1, 2, 3])\n",
      "\n",
      "    Upcasting:\n",
      "\n",
      "    >>> np.array([1, 2, 3.0])\n",
      "    array([ 1.,  2.,  3.])\n",
      "\n",
      "    More than one dimension:\n",
      "\n",
      "    >>> np.array([[1, 2], [3, 4]])\n",
      "    array([[1, 2],\n",
      "           [3, 4]])\n",
      "\n",
      "    Minimum dimensions 2:\n",
      "\n",
      "    >>> np.array([1, 2, 3], ndmin=2)\n",
      "    array([[1, 2, 3]])\n",
      "\n",
      "    Type provided:\n",
      "\n",
      "    >>> np.array([1, 2, 3], dtype=complex)\n",
      "    array([ 1.+0.j,  2.+0.j,  3.+0.j])\n",
      "\n",
      "    Data-type consisting of more than one element:\n",
      "\n",
      "    >>> x = np.array([(1,2),(3,4)],dtype=[('a','<i4'),('b','<i4')])\n",
      "    >>> x['a']\n",
      "    array([1, 3], dtype=int32)\n",
      "\n",
      "    Creating an array from sub-classes:\n",
      "\n",
      "    >>> np.array(np.asmatrix('1 2; 3 4'))\n",
      "    array([[1, 2],\n",
      "           [3, 4]])\n",
      "\n",
      "    >>> np.array(np.asmatrix('1 2; 3 4'), subok=True)\n",
      "    matrix([[1, 2],\n",
      "            [3, 4]])\n",
      "\n"
     ]
    }
   ],
   "source": [
    "#Access documentation of any function using help() or ?(jupiter environment) after any object of function\n",
    "help(np.array)"
   ]
  },
  {
   "cell_type": "code",
   "execution_count": 103,
   "id": "0e39c927",
   "metadata": {},
   "outputs": [
    {
     "data": {
      "text/plain": [
       "(3, 3)"
      ]
     },
     "execution_count": 103,
     "metadata": {},
     "output_type": "execute_result"
    }
   ],
   "source": [
    "#to get the rows and coloumns of a matrix or array\n",
    "x.shape\n"
   ]
  },
  {
   "cell_type": "markdown",
   "id": "73713b4e",
   "metadata": {},
   "source": [
    " A method is a function that is associated with an object. For instance, method given an array x, the expression x.sum() sums all of its elements, using the sum() method for arrays. The call x.sum() automatically provides x as the .sum() first argument to its sum() method."
   ]
  },
  {
   "cell_type": "code",
   "execution_count": 104,
   "id": "6eabda3a",
   "metadata": {},
   "outputs": [
    {
     "data": {
      "text/plain": [
       "np.int64(42)"
      ]
     },
     "execution_count": 104,
     "metadata": {},
     "output_type": "execute_result"
    }
   ],
   "source": [
    "x = np.array([[1,2,3],[3,4,5],[7,8,9]])\n",
    "x.sum()\n",
    "#summed up each individual element"
   ]
  },
  {
   "cell_type": "code",
   "execution_count": 105,
   "id": "ff6fc9e1",
   "metadata": {},
   "outputs": [
    {
     "data": {
      "text/plain": [
       "np.int64(42)"
      ]
     },
     "execution_count": 105,
     "metadata": {},
     "output_type": "execute_result"
    }
   ],
   "source": [
    "#alternate method\n",
    "np.sum(x)"
   ]
  },
  {
   "cell_type": "code",
   "execution_count": 106,
   "id": "1ad3eddd",
   "metadata": {},
   "outputs": [
    {
     "name": "stdout",
     "output_type": "stream",
     "text": [
      "start:\n",
      " [[1 2 3]\n",
      " [3 4 5]\n",
      " [7 8 9]\n",
      " [2 3 7]] \n",
      " (4, 3)\n",
      "[[1 2 3 3]\n",
      " [4 5 7 8]\n",
      " [9 2 3 7]] \n",
      " (3, 4)\n"
     ]
    }
   ],
   "source": [
    "# reshape returns a new array and does not modify the orignal one\n",
    "x = np.array([[1,2,3],[3,4,5],[7,8,9],[2,3,7]])\n",
    "print(\"start:\\n\",x,'\\n',x.shape)\n",
    "y=x.reshape(3,4)\n",
    "print(y,'\\n',y.shape)\n",
    "\n",
    "#the reshape function can only work when the product of the shapes are equal to the number of elements in the touple"
   ]
  },
  {
   "cell_type": "markdown",
   "id": "676b92b8",
   "metadata": {},
   "source": [
    " numpy arrays are specified as a sequence of rows. This is called <b>row-major ordering</b>, in row major ordering elements are filled row1 first then row 2 , as opposed to coloumn major ordering where 1sr column is filled then the 2nd , numpy is ROW major ordering \n",
    " also , pythonuses 0 based indexing that is 1st elemt is at 0th position"
   ]
  },
  {
   "cell_type": "code",
   "execution_count": 107,
   "id": "60bc3fdc",
   "metadata": {},
   "outputs": [
    {
     "name": "stdout",
     "output_type": "stream",
     "text": [
      "[[1 2 3 3]\n",
      " [4 5 7 8]\n",
      " [9 2 3 7]]\n",
      "first row and first column 1\n",
      "3rd row and 2nd column 2\n",
      "2nd row and 4th column 8\n",
      "accesing row 2 [4 5 7 8]\n",
      "accessing column 2 [2 5 2]\n"
     ]
    }
   ],
   "source": [
    "print(y)\n",
    "print(f\"first row and first column {y[0,0]}\")\n",
    "print(f\"3rd row and 2nd column {y[2,1]}\")\n",
    "print(f\"2nd row and 4th column {y[1,3]}\")\n",
    "print(f\"accesing row 2 {y[1,:]}\")\n",
    "print(f\"accessing column 2 {y[:,1]}\")\n",
    "\n",
    "#: is used to access single columns or rows in numpy"
   ]
  },
  {
   "cell_type": "code",
   "execution_count": null,
   "id": "56f50914",
   "metadata": {},
   "outputs": [
    {
     "name": "stdout",
     "output_type": "stream",
     "text": [
      "Orignal list \n",
      "[[1 2 3]\n",
      " [3 4 5]\n",
      " [7 8 9]\n",
      " [2 3 7]]\n",
      "list after reshape \n",
      " [[1 2 3 3]\n",
      " [4 5 7 8]\n",
      " [9 2 3 7]]\n",
      "reshaped list \n",
      " [[23  2  3  3]\n",
      " [ 4  5  7  8]\n",
      " [ 9  2  3  7]]\n",
      "orignal list\n",
      "[[23  2  3]\n",
      " [ 3  4  5]\n",
      " [ 7  8  9]\n",
      " [ 2  3  7]]\n"
     ]
    }
   ],
   "source": [
    "print(f\"Orignal list \\n{x}\")\n",
    "print(f\"list after reshape \\n {y}\")\n",
    "#changing the 1st element of the matrix 0,0\n",
    "y[0,0]=23\n",
    "print(f\"reshaped list \\n {y}\")\n",
    "print(f\"orignal list\\n{x}\")\n",
    "\n",
    "\n",
    "# although reshape gives us a new array, the new array references the old one , hence changing the new one changes the old or \n",
    "# changing the old one changes the new reshaped one\n"
   ]
  },
  {
   "cell_type": "markdown",
   "id": "7e0597d0",
   "metadata": {},
   "source": [
    "<h2>TUPPLE</h2>above code we saw that the orignal and new reshaped both get changed if even 1 get changed , that is not the case with tupple as <b>they are inherently immutable</b> "
   ]
  },
  {
   "cell_type": "code",
   "execution_count": null,
   "id": "c87d701c",
   "metadata": {},
   "outputs": [],
   "source": []
  }
 ],
 "metadata": {
  "kernelspec": {
   "display_name": "Python 3 (ipykernel)",
   "language": "python",
   "name": "python3"
  },
  "language_info": {
   "codemirror_mode": {
    "name": "ipython",
    "version": 3
   },
   "file_extension": ".py",
   "mimetype": "text/x-python",
   "name": "python",
   "nbconvert_exporter": "python",
   "pygments_lexer": "ipython3",
   "version": "3.12.1"
  }
 },
 "nbformat": 4,
 "nbformat_minor": 5
}
