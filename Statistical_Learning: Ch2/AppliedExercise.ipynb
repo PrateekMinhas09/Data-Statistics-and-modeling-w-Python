{
 "cells": [
  {
   "cell_type": "markdown",
   "id": "5135ab39",
   "metadata": {},
   "source": [
    "8. This exercise relates to the College data set, which can be found in\n",
    "the file College.csv on the book website. It contains a number of\n",
    "variables for 777 different universities and colleges in the US. The\n",
    "variables are\n",
    "• Private : Public/private indicator\n",
    "• Apps : Number of applications received\n",
    "• Accept : Number of applicants accepted\n",
    "• Enroll : Number of new students enrolled\n",
    "• Top10perc : New students from top 10 % of high school class\n",
    "• Top25perc : New students from top 25 % of high school class\n",
    "• F.Undergrad : Number of full-time undergraduates\n",
    "• P.Undergrad : Number of part-time undergraduates\n",
    "• Outstate : Out-of-state tuition\n",
    "• Room.Board : Room and board costs\n",
    "• Books : Estimated book costs\n",
    "• Personal : Estimated personal spending\n",
    "• PhD : Percent of faculty with Ph.D.s\n",
    "• Terminal : Percent of faculty with terminal degree\n",
    "• S.F.Ratio : Student/faculty ratio\n",
    "• perc.alumni : Percent of alumni who donate\n",
    "• Expend : Instructional expenditure per student\n",
    "• Grad.Rate : Graduation rate\n",
    "Before reading the data into Python, it can be viewed in Excel or a\n",
    "text editor."
   ]
  },
  {
   "cell_type": "code",
   "execution_count": 3,
   "id": "61f75748",
   "metadata": {},
   "outputs": [
    {
     "name": "stdout",
     "output_type": "stream",
     "text": [
      "hello world\n"
     ]
    }
   ],
   "source": [
    "print(\"hello world\")"
   ]
  },
  {
   "cell_type": "code",
   "execution_count": null,
   "id": "25228f75",
   "metadata": {},
   "outputs": [],
   "source": []
  }
 ],
 "metadata": {
  "kernelspec": {
   "display_name": "Python 3 (ipykernel)",
   "language": "python",
   "name": "python3"
  },
  "language_info": {
   "codemirror_mode": {
    "name": "ipython",
    "version": 3
   },
   "file_extension": ".py",
   "mimetype": "text/x-python",
   "name": "python",
   "nbconvert_exporter": "python",
   "pygments_lexer": "ipython3",
   "version": "3.12.1"
  }
 },
 "nbformat": 4,
 "nbformat_minor": 5
}
